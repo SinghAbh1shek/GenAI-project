{
  "nbformat": 4,
  "nbformat_minor": 0,
  "metadata": {
    "colab": {
      "provenance": [],
      "authorship_tag": "ABX9TyPW5sLCEA3QMEuDA9724WDU",
      "include_colab_link": true
    },
    "kernelspec": {
      "name": "python3",
      "display_name": "Python 3"
    },
    "language_info": {
      "name": "python"
    }
  },
  "cells": [
    {
      "cell_type": "markdown",
      "metadata": {
        "id": "view-in-github",
        "colab_type": "text"
      },
      "source": [
        "<a href=\"https://colab.research.google.com/github/SinghAbh1shek/GenAI-project/blob/main/Trending_news_generator.ipynb\" target=\"_parent\"><img src=\"https://colab.research.google.com/assets/colab-badge.svg\" alt=\"Open In Colab\"/></a>"
      ]
    },
    {
      "cell_type": "markdown",
      "source": [
        "#**Environment Variables**\n",
        "\n",
        "\n",
        "\n",
        "> This code gets our Gemini, Newsapi and Pexels API keys from Colab secrets.\n",
        "\n",
        "**Make sure to set your Gemini, Newsapi and Pexels API keys with the names \"NEWS_API\", \"GOOGLE_API_KEY\" and \"PEXELS_API_KEY\"**\n",
        "\n"
      ],
      "metadata": {
        "id": "J3sozIkQb6LU"
      }
    },
    {
      "cell_type": "code",
      "source": [
        "from google.colab import userdata\n",
        "GEMINI_API_KEY = userdata.get('GOOGLE_API_KEY')\n",
        "PEXELS_API_KEY = userdata.get('PEXELS_API_KEY')\n",
        "NEWS_API = userdata.get('NEWS_API')"
      ],
      "metadata": {
        "collapsed": true,
        "id": "5mdSk34U35Wu"
      },
      "execution_count": 236,
      "outputs": []
    },
    {
      "cell_type": "markdown",
      "source": [
        "#**Fetching trending News Headlines**\n",
        "> This code imports the requests library, sends a request to the NewsAPI to get trending headlines using an API key, and prints the news data in JSON format."
      ],
      "metadata": {
        "id": "X774ERPOc3QW"
      }
    },
    {
      "cell_type": "code",
      "execution_count": 237,
      "metadata": {
        "collapsed": true,
        "id": "jDfIYYNiseWj"
      },
      "outputs": [],
      "source": [
        "import requests\n",
        "url = (f\"https://newsapi.org/v2/top-headlines?country=us&apiKey={NEWS_API}\")\n",
        "response = requests.get(url)\n",
        "# print(response.json())"
      ]
    },
    {
      "cell_type": "markdown",
      "source": [
        "#**get_trending_article function**\n",
        "\n",
        "\n",
        "> This function retrieves the title and description of the top article from the result and returns them as a formatted string.\n",
        "\n"
      ],
      "metadata": {
        "id": "d2wOh7HQefk2"
      }
    },
    {
      "cell_type": "code",
      "source": [
        "def get_trending_article():\n",
        "  result  = response.json()\n",
        "  trending_article_title = result['articles'][0]['title']\n",
        "  trending_article_content = result['articles'][0]['description']\n",
        "  return(f\"{trending_article_title} {trending_article_content}\")"
      ],
      "metadata": {
        "id": "qi96F8bu1jJf"
      },
      "execution_count": 238,
      "outputs": []
    },
    {
      "cell_type": "markdown",
      "source": [
        "#**OpenAI SDK**\n",
        "\n",
        "\n",
        "> This code sets up an OpenAI client using a Gemini API key and a custom base URL to access the Gemini API.\n",
        "\n"
      ],
      "metadata": {
        "id": "3xFg0lxCbIal"
      }
    },
    {
      "cell_type": "code",
      "source": [
        "import os\n",
        "from openai import OpenAI\n",
        "client = OpenAI(\n",
        "    api_key=GEMINI_API_KEY,\n",
        "    base_url=\"https://generativelanguage.googleapis.com/v1beta/openai/\"\n",
        ")"
      ],
      "metadata": {
        "id": "hT7Dz89E3eLv"
      },
      "execution_count": 239,
      "outputs": []
    },
    {
      "cell_type": "markdown",
      "source": [
        "#**Structured Output**\n",
        "\n",
        "> This defines a data model using Pydantic where content is a required string field, used to validate the structure of an article.\n",
        "\n"
      ],
      "metadata": {
        "id": "TpvyRSpxal3h"
      }
    },
    {
      "cell_type": "code",
      "source": [
        "from pydantic import BaseModel\n",
        "\n",
        "class article_schema(BaseModel):\n",
        "  content: str"
      ],
      "metadata": {
        "id": "h1uKq2fz68TZ"
      },
      "execution_count": 240,
      "outputs": []
    },
    {
      "cell_type": "markdown",
      "source": [
        "#**article_generator() function**\n",
        "\n",
        "\n",
        "\n",
        "> The function generates a short news article using an Gemini AI model based on a trending topic.\n",
        "\n"
      ],
      "metadata": {
        "id": "Azl_jkEHZ8tQ"
      }
    },
    {
      "cell_type": "code",
      "source": [
        "def article_generator():\n",
        "  system_prompt = \"\"\"\n",
        "  You are a helpful AI assistant who specializes in writing news articles.\n",
        "  You can take input from the user and, based on that prompt, generate a news article.\n",
        "  The length of the article should be between 100-130 words\n",
        "\n",
        "  Note:\n",
        "    - Analyse the user prompt carefully\n",
        "    - Gives the best output according to the user prompt\n",
        "    - Always gives the output in the specified format\n",
        "  \"\"\"\n",
        "  user_prompt = get_trending_article()\n",
        "\n",
        "  completion = client.beta.chat.completions.parse(\n",
        "      model=\"gemini-1.5-flash\",\n",
        "      messages=[\n",
        "          {\"role\": \"system\", \"content\": system_prompt},\n",
        "          {\"role\": \"user\", \"content\": user_prompt},\n",
        "      ],\n",
        "      response_format=article_schema,\n",
        "  )\n",
        "\n",
        "  event = completion.choices[0].message.parsed.content\n",
        "  return event"
      ],
      "metadata": {
        "id": "tbrINN8u4Ic8"
      },
      "execution_count": 241,
      "outputs": []
    },
    {
      "cell_type": "markdown",
      "source": [
        "#**This code installs necessary Python libraries**"
      ],
      "metadata": {
        "id": "OilV-c7WZXgh"
      }
    },
    {
      "cell_type": "code",
      "source": [
        "pip install moviepy requests pillow gtts"
      ],
      "metadata": {
        "colab": {
          "base_uri": "https://localhost:8080/"
        },
        "collapsed": true,
        "id": "e08QCnomCoEJ",
        "outputId": "971c25ac-0106-4f39-cde2-c150334bd61f"
      },
      "execution_count": 242,
      "outputs": [
        {
          "output_type": "stream",
          "name": "stdout",
          "text": [
            "Requirement already satisfied: moviepy in /usr/local/lib/python3.11/dist-packages (1.0.3)\n",
            "Requirement already satisfied: requests in /usr/local/lib/python3.11/dist-packages (2.32.3)\n",
            "Requirement already satisfied: pillow in /usr/local/lib/python3.11/dist-packages (11.2.1)\n",
            "Requirement already satisfied: gtts in /usr/local/lib/python3.11/dist-packages (2.5.4)\n",
            "Requirement already satisfied: decorator<5.0,>=4.0.2 in /usr/local/lib/python3.11/dist-packages (from moviepy) (4.4.2)\n",
            "Requirement already satisfied: tqdm<5.0,>=4.11.2 in /usr/local/lib/python3.11/dist-packages (from moviepy) (4.67.1)\n",
            "Requirement already satisfied: proglog<=1.0.0 in /usr/local/lib/python3.11/dist-packages (from moviepy) (0.1.12)\n",
            "Requirement already satisfied: numpy>=1.17.3 in /usr/local/lib/python3.11/dist-packages (from moviepy) (2.0.2)\n",
            "Requirement already satisfied: imageio<3.0,>=2.5 in /usr/local/lib/python3.11/dist-packages (from moviepy) (2.37.0)\n",
            "Requirement already satisfied: imageio-ffmpeg>=0.2.0 in /usr/local/lib/python3.11/dist-packages (from moviepy) (0.6.0)\n",
            "Requirement already satisfied: charset-normalizer<4,>=2 in /usr/local/lib/python3.11/dist-packages (from requests) (3.4.2)\n",
            "Requirement already satisfied: idna<4,>=2.5 in /usr/local/lib/python3.11/dist-packages (from requests) (3.10)\n",
            "Requirement already satisfied: urllib3<3,>=1.21.1 in /usr/local/lib/python3.11/dist-packages (from requests) (2.4.0)\n",
            "Requirement already satisfied: certifi>=2017.4.17 in /usr/local/lib/python3.11/dist-packages (from requests) (2025.4.26)\n",
            "Requirement already satisfied: click<8.2,>=7.1 in /usr/local/lib/python3.11/dist-packages (from gtts) (8.1.8)\n"
          ]
        }
      ]
    },
    {
      "cell_type": "markdown",
      "source": [
        "# **This code imports necessary libraries for creating a video with images and voiceovers.**"
      ],
      "metadata": {
        "id": "SGaYUMdvY12b"
      }
    },
    {
      "cell_type": "code",
      "source": [
        "import os\n",
        "import requests\n",
        "from PIL import Image, ImageDraw, ImageFont\n",
        "from io import BytesIO\n",
        "from gtts import gTTS\n",
        "from moviepy.editor import ImageClip, concatenate_videoclips, AudioFileClip"
      ],
      "metadata": {
        "id": "yQG7QK1vCvm3"
      },
      "execution_count": 243,
      "outputs": []
    },
    {
      "cell_type": "markdown",
      "source": [
        "#**The code creates a folder named \"temp\" if it doesn't already exist.**\n",
        "\n",
        "\n",
        "\n",
        "\n",
        "\n",
        "\n",
        "\n",
        "\n"
      ],
      "metadata": {
        "id": "ZPts-oDkXrYm"
      }
    },
    {
      "cell_type": "code",
      "source": [
        "TEMP_FOLDER = \"temp\"\n",
        "os.makedirs(TEMP_FOLDER, exist_ok=True)"
      ],
      "metadata": {
        "id": "ViPLhHJAWa3k"
      },
      "execution_count": 244,
      "outputs": []
    },
    {
      "cell_type": "markdown",
      "source": [
        "\n",
        "#**get_images_from_pexels**\n",
        "\n",
        "\n",
        "> The function fetches images from Pexels based on a query and returns a list of images. If the API call is successful, it downloads and adds the images. Otherwise, it adds blank images as a fallback.\n",
        "\n",
        "\n",
        "\n",
        "\n",
        "\n"
      ],
      "metadata": {
        "id": "Glc2GhaCWfqI"
      }
    },
    {
      "cell_type": "code",
      "source": [
        "def get_images_from_pexels(query, num_images=3):\n",
        "    headers = {\"Authorization\": PEXELS_API_KEY}\n",
        "    params = {\"query\": query, \"per_page\": num_images}\n",
        "    response = requests.get(\"https://api.pexels.com/v1/search\", headers=headers, params=params)\n",
        "    images = []\n",
        "\n",
        "    if response.status_code == 200 and response.json()[\"photos\"]:\n",
        "        for photo in response.json()[\"photos\"]:\n",
        "            img_url = photo[\"src\"][\"large\"]\n",
        "            img_data = requests.get(img_url).content\n",
        "            images.append(Image.open(BytesIO(img_data)))\n",
        "    else:\n",
        "        # Fallback to blank image\n",
        "        for _ in range(num_images):\n",
        "            images.append(Image.new('RGB', (1280, 720), color=(30, 30, 30)))\n",
        "\n",
        "    return images"
      ],
      "metadata": {
        "id": "K8sCmVPwDFTp"
      },
      "execution_count": 245,
      "outputs": []
    },
    {
      "cell_type": "markdown",
      "source": [
        "#**create_image_with_text**\n",
        "\n",
        "\n",
        "> The function resizes an image to specified size, overlays text onto it by splitting the text into lines that fit within the image width, and places the text at the bottom center. It then saves the modified image to the specified output path.\n",
        "\n"
      ],
      "metadata": {
        "id": "g_sD6Zb4V6cs"
      }
    },
    {
      "cell_type": "code",
      "source": [
        "def create_image_with_text(image, text, output_path):\n",
        "    image = image.resize((1280, 720))\n",
        "\n",
        "    draw = ImageDraw.Draw(image)\n",
        "\n",
        "    font_size = 25\n",
        "    try:\n",
        "        font = ImageFont.truetype(\"arial.ttf\", font_size)\n",
        "    except:\n",
        "        font = ImageFont.load_default(font_size)\n",
        "\n",
        "    # Split text into lines\n",
        "    margin = 40\n",
        "    max_width = image.width - 2 * margin\n",
        "    lines = []\n",
        "    words = text.split()\n",
        "    line = \"\"\n",
        "\n",
        "    for word in words:\n",
        "        if draw.textbbox((0, 0), line + \" \" + word, font=font)[2] <= max_width:\n",
        "            line += \" \" + word    #Words fits with the same line\n",
        "        else:\n",
        "            lines.append(line) # For new line\n",
        "            line = word\n",
        "\n",
        "    lines.append(line)\n",
        "\n",
        "    y = image.height - (font_size + 10) * len(lines) - margin # Calculate position to place the text to bottom center\n",
        "    for line in lines:\n",
        "        width, _ = draw.textbbox((0, 0), line, font=font)[2:4] # Center the text horizontally\n",
        "        x = (image.width - width) // 2\n",
        "        draw.text((x, y), line, font=font, fill='white')\n",
        "        y += font_size + 10  # Move to the next line\n",
        "\n",
        "    image.save(output_path)\n"
      ],
      "metadata": {
        "id": "BO5CdzBcDjAN"
      },
      "execution_count": 246,
      "outputs": []
    },
    {
      "cell_type": "markdown",
      "source": [
        "#**generate_voiceover function**\n",
        "\n",
        "\n",
        "> The function converts the provided text into speech using Google Text-to-Speech (gTTS) and saves the audio as a file at the specified location.\n",
        "\n"
      ],
      "metadata": {
        "id": "7SaOMySeVa5Z"
      }
    },
    {
      "cell_type": "code",
      "source": [
        "def generate_voiceover(text, output_path):\n",
        "    tts = gTTS(text)\n",
        "    tts.save(output_path)\n",
        "    return output_path"
      ],
      "metadata": {
        "id": "dOGRrt6DDum-"
      },
      "execution_count": 247,
      "outputs": []
    },
    {
      "cell_type": "markdown",
      "source": [
        "#**create_video_with_audio function**\n",
        "\n",
        "> The function takes a script, turns it into a voiceover, and finds related images for each part of the script. It adds the script text to the images, puts everything together into a video, and saves it with the voiceover and images."
      ],
      "metadata": {
        "id": "G1M24XN-UkaP"
      }
    },
    {
      "cell_type": "code",
      "source": [
        "def create_video_with_audio(script_text, output_file=\"pexels_news_video_with_audio.mp4\"):\n",
        "    sentences = [s.strip() for s in script_text.split('.') if s.strip()]\n",
        "    clips = []\n",
        "\n",
        "    print(\"🎙️ Generating voiceover...\")\n",
        "    audio_path = os.path.join(TEMP_FOLDER, \"voiceover.mp3\")\n",
        "    generate_voiceover(\" \".join(sentences), audio_path)\n",
        "    audio_clip = AudioFileClip(audio_path)\n",
        "\n",
        "    total_duration = audio_clip.duration\n",
        "    duration_per_sentence = total_duration / len(sentences)\n",
        "\n",
        "    print(\"🖼️ Creating visuals for each sentence...\")\n",
        "    for i, sentence in enumerate(sentences):\n",
        "        images = get_images_from_pexels(sentence, num_images=3)\n",
        "        subclips = []\n",
        "        for j, image in enumerate(images):\n",
        "            img_path = os.path.join(TEMP_FOLDER, f\"frame_{i}_{j}.jpg\")\n",
        "            create_image_with_text(image, sentence, img_path)\n",
        "            subclip = ImageClip(img_path).set_duration(duration_per_sentence / len(images))\n",
        "            subclips.append(subclip)\n",
        "\n",
        "        sentence_clip = concatenate_videoclips(subclips)\n",
        "        clips.append(sentence_clip)\n",
        "\n",
        "    print(\"🎬 Finalizing video...\")\n",
        "    final_video = concatenate_videoclips(clips, method=\"compose\").set_audio(audio_clip)\n",
        "    final_video.write_videofile(output_file, fps=24)\n",
        "    print(f\"✅ Done! Video saved as: {output_file}\")"
      ],
      "metadata": {
        "id": "GpHzcbQrDw1h"
      },
      "execution_count": 248,
      "outputs": []
    },
    {
      "cell_type": "markdown",
      "source": [
        "#**Generate the article**\n",
        "\n",
        "\n",
        "> This code generates a news article using the article_generator() function and then creates a video with audio based on the generated article using the create_video_with_audio() function.\n",
        "\n"
      ],
      "metadata": {
        "id": "uogUTdDLfEUN"
      }
    },
    {
      "cell_type": "code",
      "source": [
        "script = article_generator()\n",
        "create_video_with_audio(script)"
      ],
      "metadata": {
        "colab": {
          "base_uri": "https://localhost:8080/"
        },
        "collapsed": true,
        "id": "gBvjl6OFEHhz",
        "outputId": "4f8daee1-bd2c-4e0f-9315-5fcb6625c59d"
      },
      "execution_count": 249,
      "outputs": [
        {
          "output_type": "stream",
          "name": "stdout",
          "text": [
            "🎙️ Generating voiceover...\n",
            "🖼️ Creating visuals for each sentence...\n",
            "🎬 Finalizing video...\n",
            "Moviepy - Building video pexels_news_video_with_audio.mp4.\n",
            "MoviePy - Writing audio in pexels_news_video_with_audioTEMP_MPY_wvf_snd.mp3\n"
          ]
        },
        {
          "output_type": "stream",
          "name": "stderr",
          "text": []
        },
        {
          "output_type": "stream",
          "name": "stdout",
          "text": [
            "MoviePy - Done.\n",
            "Moviepy - Writing video pexels_news_video_with_audio.mp4\n",
            "\n"
          ]
        },
        {
          "output_type": "stream",
          "name": "stderr",
          "text": []
        },
        {
          "output_type": "stream",
          "name": "stdout",
          "text": [
            "Moviepy - Done !\n",
            "Moviepy - video ready pexels_news_video_with_audio.mp4\n",
            "✅ Done! Video saved as: pexels_news_video_with_audio.mp4\n"
          ]
        }
      ]
    }
  ]
}